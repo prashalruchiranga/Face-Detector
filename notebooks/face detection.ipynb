{
 "cells": [
  {
   "cell_type": "code",
   "execution_count": 1,
   "id": "02fd599c-65f6-4e70-a094-5369bc6f4bdf",
   "metadata": {},
   "outputs": [],
   "source": [
    "import numpy as np\n",
    "import tensorflow as tf\n",
    "import cv2\n",
    "import os\n",
    "import glob\n",
    "import matplotlib.pyplot as plt"
   ]
  },
  {
   "cell_type": "code",
   "execution_count": 14,
   "id": "01900309-3178-4907-b314-2e28678b3eea",
   "metadata": {},
   "outputs": [],
   "source": [
    "### Read bounding box annotations - training set\n",
    "data_dir = \"../wider_face/data\"\n",
    "with open(os.path.join(data_dir, \"wider_face_split/wider_face_train_bbx_gt.txt\"), \"r\") as file: \n",
    "    bbox_anno = [line.rstrip(\"\\n, \") for line in file.readlines()]"
   ]
  },
  {
   "cell_type": "code",
   "execution_count": 40,
   "id": "bc618c4b-c838-43a3-a264-7ed93391ce76",
   "metadata": {
    "scrolled": true
   },
   "outputs": [],
   "source": [
    "### Create a dictionary such that it contains image_name:respective_annotations \n",
    "img_indices = []\n",
    "n_bbxes = []\n",
    "for i in range(len(bbox_anno)):\n",
    "    if bbox_anno[i].endswith((\".jpg\", \".jpeg\", \".png\")):\n",
    "        img_indices.append(i)\n",
    "        n_bbxes.append(int(bbox_anno[i+1]))\n",
    "dic = {}\n",
    "for pair in list(zip(img_indices, n_bbxes)):\n",
    "    dic[bbox_anno[pair[0]]] = bbox_anno[pair[0]+2 : pair[0]+2+pair[1]]"
   ]
  },
  {
   "cell_type": "code",
   "execution_count": null,
   "id": "38b57f8e-8f48-4272-a6dc-e0b672c73c21",
   "metadata": {},
   "outputs": [],
   "source": []
  }
 ],
 "metadata": {
  "kernelspec": {
   "display_name": "Python 3 (ipykernel)",
   "language": "python",
   "name": "python3"
  },
  "language_info": {
   "codemirror_mode": {
    "name": "ipython",
    "version": 3
   },
   "file_extension": ".py",
   "mimetype": "text/x-python",
   "name": "python",
   "nbconvert_exporter": "python",
   "pygments_lexer": "ipython3",
   "version": "3.11.9"
  }
 },
 "nbformat": 4,
 "nbformat_minor": 5
}
