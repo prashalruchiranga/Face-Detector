{
 "cells": [
  {
   "cell_type": "code",
   "execution_count": 1,
   "id": "62266972-4177-4bcf-abb5-aee0a02469a2",
   "metadata": {},
   "outputs": [],
   "source": [
    "import os\n",
    "import sys\n",
    "### Append the project root directory to sys.path\n",
    "sys.path.append(os.path.abspath(\"/Users/prashal/dev/Face-Detector\"))\n",
    "\n",
    "from keras.optimizers import Adam\n",
    "\n",
    "from models.keras_ssd7 import build_model\n",
    "from keras_loss_function.keras_ssd_loss import SSDLoss\n",
    "from misc_utils.utils import create_virtual_folder, format_labels"
   ]
  },
  {
   "cell_type": "markdown",
   "id": "d0fbd0af-b04f-4dad-98e0-8a566f94ec57",
   "metadata": {},
   "source": [
    "##### Define model configuration parameters"
   ]
  },
  {
   "cell_type": "code",
   "execution_count": 2,
   "id": "21ab8feb-7b38-40fd-af99-afd1173bccb5",
   "metadata": {},
   "outputs": [],
   "source": [
    "img_height = 300\n",
    "img_width = 480\n",
    "img_channels = 3\n",
    "intensity_mean = 127.5  \n",
    "intensity_range = 127.5 \n",
    "n_classes = 5\n",
    "min_scale = 0.07\n",
    "max_scale = 0.9\n",
    "aspect_ratios = [0.5, 1.0, 2.0]\n",
    "two_boxes_for_ar1 = True\n",
    "steps = None\n",
    "offsets = None\n",
    "clip_boxes = False\n",
    "variances = [1.0, 1.0, 1.0, 1.0]\n",
    "normalize_coords = True"
   ]
  },
  {
   "cell_type": "markdown",
   "id": "e2b58c98-49c0-4b9e-b69a-47a6602025e6",
   "metadata": {},
   "source": [
    "##### Build the keras model"
   ]
  },
  {
   "cell_type": "code",
   "execution_count": 3,
   "id": "b70f1aa8-d045-4eb1-bcae-f64f388ee3a1",
   "metadata": {},
   "outputs": [],
   "source": [
    "ssd = build_model(\n",
    "    image_size=(img_height, img_width, img_channels),\n",
    "    n_classes=n_classes,\n",
    "    mode=\"training\",\n",
    "    l2_regularization=0.0005,\n",
    "    min_scale=min_scale,\n",
    "    max_scale=max_scale,\n",
    "    aspect_ratios_global=aspect_ratios,\n",
    "    aspect_ratios_per_layer=None,\n",
    "    two_boxes_for_ar1=two_boxes_for_ar1,\n",
    "    steps=steps,\n",
    "    offsets=offsets,\n",
    "    clip_boxes=clip_boxes,\n",
    "    variances=variances,\n",
    "    normalize_coords=normalize_coords,\n",
    "    subtract_mean=intensity_mean,\n",
    "    divide_by_stddev=intensity_range,\n",
    ")\n",
    "\n",
    "adam = Adam(learning_rate=0.001)\n",
    "ssd_loss = SSDLoss(neg_pos_ratio=3, alpha=1.0)\n",
    "ssd.compile(optimizer=adam, loss=ssd_loss.compute_loss)"
   ]
  },
  {
   "cell_type": "markdown",
   "id": "5bdb7039-e2a3-43aa-a8fc-af9014981a34",
   "metadata": {},
   "source": [
    "##### Set up the data generators"
   ]
  },
  {
   "cell_type": "code",
   "execution_count": 4,
   "id": "dfad2bb5-0de8-437c-b15c-8ebf03602ba4",
   "metadata": {},
   "outputs": [
    {
     "data": {
      "text/plain": [
       "'Formatted file succesfully saved to /Users/prashal/dev/Face-Detector/dataset/train/train_bbox.csv'"
      ]
     },
     "execution_count": 4,
     "metadata": {},
     "output_type": "execute_result"
    }
   ],
   "source": [
    "### Create symlinks to train-set\n",
    "src_folder_train = os.path.abspath(\"../wider_face/data/WIDER_train/images\")\n",
    "virtual_folder_train = os.path.abspath(\"../dataset/train/images\")\n",
    "create_virtual_folder(src_folder_train, virtual_folder_train)\n",
    "### Format training set ground truth labels\n",
    "train_labels_file = os.path.abspath(\"../wider_face/data/wider_face_split/wider_face_train_bbx_gt.txt\")\n",
    "formatted_train_labels_file = os.path.abspath(\"../dataset/train/train_bbox.csv\")\n",
    "format_labels(train_labels_file, formatted_train_labels_file)"
   ]
  },
  {
   "cell_type": "code",
   "execution_count": 5,
   "id": "6e9b873f-bd54-465f-8336-a24411c12021",
   "metadata": {},
   "outputs": [
    {
     "data": {
      "text/plain": [
       "'Formatted file succesfully saved to /Users/prashal/dev/Face-Detector/dataset/val/val_bbox.csv'"
      ]
     },
     "execution_count": 5,
     "metadata": {},
     "output_type": "execute_result"
    }
   ],
   "source": [
    "### Create symlinks to validation-set\n",
    "src_folder_val = os.path.abspath(\"../wider_face/data/WIDER_val/images\")\n",
    "virtual_folder_val = os.path.abspath(\"../dataset/val/images\")\n",
    "create_virtual_folder(src_folder_val, virtual_folder_val)\n",
    "### Format validation set ground truth labels\n",
    "val_labels_file = os.path.abspath(\"../wider_face/data/wider_face_split/wider_face_val_bbx_gt.txt\")\n",
    "formatted_val_labels_file = os.path.abspath(\"../dataset/val/val_bbox.csv\")\n",
    "format_labels(val_labels_file, formatted_val_labels_file)"
   ]
  },
  {
   "cell_type": "code",
   "execution_count": 6,
   "id": "282d2e6c-1079-4889-9101-795426cfef0a",
   "metadata": {},
   "outputs": [
    {
     "data": {
      "text/plain": [
       "'/Users/prashal/dev/Face-Detector/dataset/val/val_bbox.csv'"
      ]
     },
     "execution_count": 6,
     "metadata": {},
     "output_type": "execute_result"
    }
   ],
   "source": [
    "from data_generator.object_detection_2d_data_generator import DataGenerator\n",
    "\n",
    "train_dataset = DataGenerator(load_images_into_memory=False, hdf5_dataset_path=None)\n",
    "val_dataset = DataGenerator(load_images_into_memory=False, hdf5_dataset_path=None)\n",
    "\n",
    "### Images\n",
    "images_dir_train = virtual_folder_train\n",
    "images_dir_val = virtual_folder_val\n",
    "\n",
    "### Ground truth\n",
    "formatted_train_labels_file\n",
    "formatted_val_labels_file"
   ]
  },
  {
   "cell_type": "code",
   "execution_count": null,
   "id": "f86861a0-7d38-4cc5-ae16-2d2ec2cac2ae",
   "metadata": {},
   "outputs": [],
   "source": []
  }
 ],
 "metadata": {
  "kernelspec": {
   "display_name": "Python 3 (ipykernel)",
   "language": "python",
   "name": "python3"
  },
  "language_info": {
   "codemirror_mode": {
    "name": "ipython",
    "version": 3
   },
   "file_extension": ".py",
   "mimetype": "text/x-python",
   "name": "python",
   "nbconvert_exporter": "python",
   "pygments_lexer": "ipython3",
   "version": "3.11.9"
  }
 },
 "nbformat": 4,
 "nbformat_minor": 5
}
